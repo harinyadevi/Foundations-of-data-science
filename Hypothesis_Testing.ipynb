{
  "nbformat": 4,
  "nbformat_minor": 0,
  "metadata": {
    "colab": {
      "name": "Hypothesis_Testing.ipynb",
      "provenance": [],
      "collapsed_sections": [],
      "authorship_tag": "ABX9TyOwSjwo1zpEY53uKzOqwdS6"
    },
    "kernelspec": {
      "name": "python3",
      "display_name": "Python 3"
    },
    "language_info": {
      "name": "python"
    }
  },
  "cells": [
    {
      "cell_type": "markdown",
      "metadata": {
        "id": "XrKIR1h25myf"
      },
      "source": [
        "# Hypothesis Testing"
      ]
    },
    {
      "cell_type": "code",
      "metadata": {
        "id": "Uv8hpE_j5cqY"
      },
      "source": [
        "import numpy as np\n",
        "import scipy.stats as st"
      ],
      "execution_count": null,
      "outputs": []
    },
    {
      "cell_type": "markdown",
      "metadata": {
        "id": "QWjHLJt35tne"
      },
      "source": [
        "# Section 1: z-Test"
      ]
    },
    {
      "cell_type": "markdown",
      "metadata": {
        "id": "BMl0AViG5xvu"
      },
      "source": [
        "## Example 1.1: Ages of Medical Doctors"
      ]
    },
    {
      "cell_type": "markdown",
      "metadata": {
        "id": "7Hcim0IK54aS"
      },
      "source": [
        "A researcher believes that the mean age of medical doctors in a large hospital system is older than the average age of doctors in the United States, which is 46. Assume the population standard deviation is 4.2 years. A random sample of 30 doctors from the system is selected, and the mean age of the sample is 48.6. Test the claim at α = 0.05."
      ]
    },
    {
      "cell_type": "code",
      "metadata": {
        "id": "yb277F1D53Ei"
      },
      "source": [
        "#H0: μ = 46 , Ha: μ > 46\n",
        "n = 30\n",
        "xbar = 48.6 \n",
        "mu = 46\n",
        "sigma = 4.2 \n",
        "alpha = 0.05"
      ],
      "execution_count": null,
      "outputs": []
    },
    {
      "cell_type": "code",
      "metadata": {
        "colab": {
          "base_uri": "https://localhost:8080/"
        },
        "id": "nNMW-GIC6EoR",
        "outputId": "d982c1d4-2a86-493f-bc0a-f595a3793c7c"
      },
      "source": [
        "z_critical = abs(st.norm.ppf(alpha)) #Absolute value taken as the it's a right-tailed test and the original value will be negative\n",
        "z_critical"
      ],
      "execution_count": null,
      "outputs": [
        {
          "output_type": "execute_result",
          "data": {
            "text/plain": [
              "1.6448536269514729"
            ]
          },
          "metadata": {},
          "execution_count": 4
        }
      ]
    },
    {
      "cell_type": "code",
      "metadata": {
        "colab": {
          "base_uri": "https://localhost:8080/"
        },
        "id": "yMYqP4Iy6WYD",
        "outputId": "69443bb1-7eb9-4497-ba5a-453fa2d66ad1"
      },
      "source": [
        "z = (xbar-mu)/(sigma/np.sqrt(n))\n",
        "z"
      ],
      "execution_count": null,
      "outputs": [
        {
          "output_type": "execute_result",
          "data": {
            "text/plain": [
              "3.3906634512224585"
            ]
          },
          "metadata": {},
          "execution_count": 5
        }
      ]
    },
    {
      "cell_type": "code",
      "metadata": {
        "colab": {
          "base_uri": "https://localhost:8080/"
        },
        "id": "XoHB7Zlh6hlk",
        "outputId": "93847d67-7b73-4b30-d789-a2d72c7fb558"
      },
      "source": [
        "if (z<z_critical): #Right-tailed test\n",
        "    print(\"Null hypothesis cannot be rejected\")\n",
        "else:\n",
        "    print(\"Reject null hypothesis\")"
      ],
      "execution_count": null,
      "outputs": [
        {
          "output_type": "stream",
          "name": "stdout",
          "text": [
            "Reject null hypothesis\n"
          ]
        }
      ]
    },
    {
      "cell_type": "markdown",
      "metadata": {
        "id": "pt_S16VY6ocp"
      },
      "source": [
        "# Section 2 : z-Test using P-value"
      ]
    },
    {
      "cell_type": "markdown",
      "metadata": {
        "id": "an3SkkhM6sWJ"
      },
      "source": [
        "## Example 2. 1 : Wind Speed"
      ]
    },
    {
      "cell_type": "markdown",
      "metadata": {
        "id": "WEt_8uVu6wqj"
      },
      "source": [
        "A researcher claims that the average wind speed in a certain city is 8 miles per hour. A sample of 32 days has an average wind speed of 8.2 miles per hour. The standard deviation of the population is 0.6 mile per hour. At α = 0.05, is there enough evidence to reject the claim? Use the P-value method."
      ]
    },
    {
      "cell_type": "code",
      "metadata": {
        "id": "iY5I1YHw60Mr"
      },
      "source": [
        "#H0 : μ = 8  and Ha : μ != 8\n",
        "n = 32\n",
        "xbar = 8.2\n",
        "mu = 8\n",
        "sigma = 0.6\n",
        "alpha =0.05"
      ],
      "execution_count": null,
      "outputs": []
    },
    {
      "cell_type": "code",
      "metadata": {
        "colab": {
          "base_uri": "https://localhost:8080/"
        },
        "id": "e-FdP3kG69nc",
        "outputId": "3a5a7cb6-9fce-4ab9-e9bb-d84f88c715bc"
      },
      "source": [
        "z = (xbar-mu)/(sigma/np.sqrt(n))\n",
        "z"
      ],
      "execution_count": null,
      "outputs": [
        {
          "output_type": "execute_result",
          "data": {
            "text/plain": [
              "1.8856180831641203"
            ]
          },
          "metadata": {},
          "execution_count": 8
        }
      ]
    },
    {
      "cell_type": "code",
      "metadata": {
        "colab": {
          "base_uri": "https://localhost:8080/"
        },
        "id": "Dd1EIgbI7DD6",
        "outputId": "a67419e1-2356-49a3-fba8-0c84c803f926"
      },
      "source": [
        "p_val = (1 - st.norm.cdf(abs(z))) * 2\n",
        "p_val"
      ],
      "execution_count": null,
      "outputs": [
        {
          "output_type": "execute_result",
          "data": {
            "text/plain": [
              "0.0593464387919207"
            ]
          },
          "metadata": {},
          "execution_count": 10
        }
      ]
    },
    {
      "cell_type": "code",
      "metadata": {
        "colab": {
          "base_uri": "https://localhost:8080/"
        },
        "id": "1VE7gVTD7OMo",
        "outputId": "b1b83dbd-dc8f-4e71-db4a-23d4a2e9c10f"
      },
      "source": [
        "if (p_val > alpha):\n",
        "    print(\"Null hypothesis cannot be rejected\")\n",
        "else:\n",
        "    print(\"Reject null hypothesis\")"
      ],
      "execution_count": null,
      "outputs": [
        {
          "output_type": "stream",
          "name": "stdout",
          "text": [
            "Null hypothesis cannot be rejected\n"
          ]
        }
      ]
    },
    {
      "cell_type": "markdown",
      "metadata": {
        "id": "Ko7n3Tzs7TWw"
      },
      "source": [
        "# Section 3 : t-Test"
      ]
    },
    {
      "cell_type": "markdown",
      "metadata": {
        "id": "eDQN3-aG7WmO"
      },
      "source": [
        "## Example 3.1 : Hospital Infections"
      ]
    },
    {
      "cell_type": "markdown",
      "metadata": {
        "id": "C_Wlxeem7abJ"
      },
      "source": [
        "A medical investigation claims that the average number of infections per week at a ­hospital in southwestern Pennsylvania is 16.3. A random sample of 10 weeks had a mean number of 17.7 infections. The sample standard deviation is 1.8. Is there enough evidence to reject the investigator’s claim at α = 0.05? Assume the variable is normally distributed."
      ]
    },
    {
      "cell_type": "code",
      "metadata": {
        "id": "p1wCasli7daO"
      },
      "source": [
        "#H0 : μ = 16.3, Ha : μ 1=16.3\n",
        "n = 10\n",
        "degrees_of_freedom = n-1\n",
        "xbar = 17.7\n",
        "mu = 16.3\n",
        "s = 1.8\n",
        "alpha = 0.05"
      ],
      "execution_count": null,
      "outputs": []
    },
    {
      "cell_type": "code",
      "metadata": {
        "colab": {
          "base_uri": "https://localhost:8080/"
        },
        "id": "X3GgrpOp7fuH",
        "outputId": "79eb02c8-2304-445b-acfc-72cffdfb3a1f"
      },
      "source": [
        "t = (xbar-mu)/(s / np.sqrt(n))\n",
        "t"
      ],
      "execution_count": null,
      "outputs": [
        {
          "output_type": "execute_result",
          "data": {
            "text/plain": [
              "2.4595492912420704"
            ]
          },
          "metadata": {},
          "execution_count": 14
        }
      ]
    },
    {
      "cell_type": "code",
      "metadata": {
        "colab": {
          "base_uri": "https://localhost:8080/"
        },
        "id": "17LnooUV7zS7",
        "outputId": "606473e4-a3c1-4ffd-d361-eff2194d0d68"
      },
      "source": [
        "t_critical = st.t.ppf(alpha/2,degrees_of_freedom)\n",
        "t_critical"
      ],
      "execution_count": null,
      "outputs": [
        {
          "output_type": "execute_result",
          "data": {
            "text/plain": [
              "-2.262157162740992"
            ]
          },
          "metadata": {},
          "execution_count": 15
        }
      ]
    },
    {
      "cell_type": "code",
      "metadata": {
        "colab": {
          "base_uri": "https://localhost:8080/"
        },
        "id": "asH0r3B478Vx",
        "outputId": "3d0e9768-9adf-4687-b4ad-14075564fb52"
      },
      "source": [
        "if (abs(t)>abs(t_critical)): #Absolute value taken as the it's a two-tailed test and the original t_critical value might be negative\n",
        "    print(\"Null hypothesis cannot be rejected\")\n",
        "else:\n",
        "    print(\"Reject null hypothesis\")"
      ],
      "execution_count": null,
      "outputs": [
        {
          "output_type": "stream",
          "name": "stdout",
          "text": [
            "Null hypothesis cannot be rejected\n"
          ]
        }
      ]
    },
    {
      "cell_type": "markdown",
      "metadata": {
        "id": "CBuo351k8EEF"
      },
      "source": [
        "# Section 4 : t-Test using P-value"
      ]
    },
    {
      "cell_type": "markdown",
      "metadata": {
        "id": "87rdTRgE8IVP"
      },
      "source": [
        "## Example 4.1 : Jogger’s Oxygen Uptake"
      ]
    },
    {
      "cell_type": "markdown",
      "metadata": {
        "id": "glv3-mp_8KyV"
      },
      "source": [
        "A physician claims that joggers’ maximal volume oxygen uptake is greater than the average of all adults. A random sample of 15 joggers has a mean of 40.6 milliliters per kilogram (ml/kg) and a standard deviation of 6 ml/kg. If the average of all adults is 36.7 ml/kg, is there enough evidence to support the physician’s claim at α = 0.05? Assume the variable is normally distributed."
      ]
    },
    {
      "cell_type": "code",
      "metadata": {
        "id": "_lvi0VsU8NOp"
      },
      "source": [
        "#H0 : μ  = 36.7, Ha : μ >36.7\n",
        "n = 15\n",
        "degrees_of_freedom = n-1\n",
        "xbar = 40.6\n",
        "mu = 36.7\n",
        "s = 6\n",
        "alpha =0.05"
      ],
      "execution_count": null,
      "outputs": []
    },
    {
      "cell_type": "code",
      "metadata": {
        "colab": {
          "base_uri": "https://localhost:8080/"
        },
        "id": "dI8PGaYh8WZe",
        "outputId": "de6f54d1-70f1-4e85-d9ec-c1d8f5158634"
      },
      "source": [
        "t = (xbar - mu)/(s / np.sqrt(n))\n",
        "t"
      ],
      "execution_count": null,
      "outputs": [
        {
          "output_type": "execute_result",
          "data": {
            "text/plain": [
              "2.51743917503482"
            ]
          },
          "metadata": {},
          "execution_count": 18
        }
      ]
    },
    {
      "cell_type": "code",
      "metadata": {
        "colab": {
          "base_uri": "https://localhost:8080/"
        },
        "id": "H9p6rzpi8cLY",
        "outputId": "7df12021-8c0d-4c66-a2e0-62f76501dd8d"
      },
      "source": [
        "p_val = (1-st.t.cdf(abs(t),degrees_of_freedom))\n",
        "p_val"
      ],
      "execution_count": null,
      "outputs": [
        {
          "output_type": "execute_result",
          "data": {
            "text/plain": [
              "0.012311189053656801"
            ]
          },
          "metadata": {},
          "execution_count": 19
        }
      ]
    },
    {
      "cell_type": "code",
      "metadata": {
        "colab": {
          "base_uri": "https://localhost:8080/"
        },
        "id": "s5ZRaZPU8jgU",
        "outputId": "8c28c370-06a3-4897-a7ab-447ac58f5fdd"
      },
      "source": [
        "if (p_val>alpha):\n",
        "    print(\"Null hypothesis cannot be rejected\")\n",
        "else:\n",
        "    print(\"Reject null hypothesis\")"
      ],
      "execution_count": null,
      "outputs": [
        {
          "output_type": "stream",
          "name": "stdout",
          "text": [
            "Reject null hypothesis\n"
          ]
        }
      ]
    },
    {
      "cell_type": "markdown",
      "metadata": {
        "id": "D2AMsSYz8pQm"
      },
      "source": [
        "# Section 5 : Chi-Square Test"
      ]
    },
    {
      "cell_type": "markdown",
      "metadata": {
        "id": "v-7s0ebH8sJu"
      },
      "source": [
        "## Example 5.1 : IQ Test"
      ]
    },
    {
      "cell_type": "markdown",
      "metadata": {
        "id": "SpofxPZq8wTM"
      },
      "source": [
        "A psychologist wishes to see if the variance in IQ of 10 of her counseling patients is less than the variance of the population, which is 225. The variance of the IQs of her 10 patients was 206. Test her claim at α = 0.05."
      ]
    },
    {
      "cell_type": "code",
      "metadata": {
        "id": "MtlUg8B88y7N"
      },
      "source": [
        "#H0 : σ2 = 225, Ha : σ2 <225\n",
        "n = 10\n",
        "degrees_of_freedom = n-1\n",
        "s_square = 206\n",
        "sigma_square = 225\n",
        "alpha = 0.05"
      ],
      "execution_count": null,
      "outputs": []
    },
    {
      "cell_type": "code",
      "metadata": {
        "colab": {
          "base_uri": "https://localhost:8080/"
        },
        "id": "Sq2b4eN887ys",
        "outputId": "e4bc6666-b016-4a0e-f6e7-3d1253f0cb4d"
      },
      "source": [
        "chi_square = ((n-1)*s_square)/sigma_square\n",
        "chi_square"
      ],
      "execution_count": null,
      "outputs": [
        {
          "output_type": "execute_result",
          "data": {
            "text/plain": [
              "8.24"
            ]
          },
          "metadata": {},
          "execution_count": 31
        }
      ]
    },
    {
      "cell_type": "code",
      "metadata": {
        "colab": {
          "base_uri": "https://localhost:8080/"
        },
        "id": "LmIpCTAL9Cfn",
        "outputId": "664c523e-8802-468f-99a5-679aeeb189ea"
      },
      "source": [
        "chi_square_critical = st.chi2.ppf(alpha,degrees_of_freedom)\n",
        "chi_square_critical"
      ],
      "execution_count": null,
      "outputs": [
        {
          "output_type": "execute_result",
          "data": {
            "text/plain": [
              "3.325112843066815"
            ]
          },
          "metadata": {},
          "execution_count": 32
        }
      ]
    },
    {
      "cell_type": "code",
      "metadata": {
        "colab": {
          "base_uri": "https://localhost:8080/"
        },
        "id": "05xSLT3g9Ngn",
        "outputId": "f3542739-2158-4593-ccdd-ae28c64c3149"
      },
      "source": [
        "if (chi_square > chi_square_critical):\n",
        "    print(\"Null hypothesis cannot be rejected\")\n",
        "else:\n",
        "    print(\"Reject null hypothesis\")"
      ],
      "execution_count": null,
      "outputs": [
        {
          "output_type": "stream",
          "name": "stdout",
          "text": [
            "Null hypothesis cannot be rejected\n"
          ]
        }
      ]
    },
    {
      "cell_type": "markdown",
      "metadata": {
        "id": "LIq_2R_v9Ri0"
      },
      "source": [
        "# Section 6 : Chi-Square Test using P-Value"
      ]
    },
    {
      "cell_type": "markdown",
      "metadata": {
        "id": "0fhdaNf19VIm"
      },
      "source": [
        "## Example 6.1 : Car Inspection Times"
      ]
    },
    {
      "cell_type": "markdown",
      "metadata": {
        "id": "LwBsKGCE9Yf_"
      },
      "source": [
        "A researcher knows from past studies that the standard deviation of the time it takes to inspect a car is 16.8 minutes. A random sample of 24 cars is selected and inspected. The standard deviation is 12.5 minutes. At α = 0.05, can it be concluded that the standard deviation has changed? Use the P-value method. Assume the variable is normally distributed."
      ]
    },
    {
      "cell_type": "code",
      "metadata": {
        "id": "kS10vl3t9bnC"
      },
      "source": [
        "#H0 : σ = 16.8, Ha :  σ !=16.8\n",
        "n = 24\n",
        "degrees_of_freedom = n-1\n",
        "s = 12.5\n",
        "sigma = 16.7\n",
        "alpha =0.05"
      ],
      "execution_count": null,
      "outputs": []
    },
    {
      "cell_type": "code",
      "metadata": {
        "colab": {
          "base_uri": "https://localhost:8080/"
        },
        "id": "008P3Iv49kLc",
        "outputId": "e0f78c01-1208-46b6-ec81-30ea0cd7dc3e"
      },
      "source": [
        "chi_square = ((n-1)*(s**2))/sigma**2\n",
        "chi_square"
      ],
      "execution_count": null,
      "outputs": [
        {
          "output_type": "execute_result",
          "data": {
            "text/plain": [
              "12.885904837032522"
            ]
          },
          "metadata": {},
          "execution_count": 27
        }
      ]
    },
    {
      "cell_type": "code",
      "metadata": {
        "colab": {
          "base_uri": "https://localhost:8080/"
        },
        "id": "W7cpRt7U9uA4",
        "outputId": "818c8f66-a833-46e5-9082-3dfe2f415729"
      },
      "source": [
        "p_val = st.chi2.cdf(chi_square,degrees_of_freedom)*2\n",
        "p_val"
      ],
      "execution_count": null,
      "outputs": [
        {
          "output_type": "execute_result",
          "data": {
            "text/plain": [
              "0.09115855673359283"
            ]
          },
          "metadata": {},
          "execution_count": 28
        }
      ]
    },
    {
      "cell_type": "code",
      "metadata": {
        "colab": {
          "base_uri": "https://localhost:8080/"
        },
        "id": "iozoEKan90oR",
        "outputId": "2ccae539-de79-4e3f-9585-fdcc32194d6d"
      },
      "source": [
        "if (p_val>alpha):\n",
        "    print(\"Null hypothesis cannot be rejected\")\n",
        "else:\n",
        "    print(\"Reject null hypothesis\")"
      ],
      "execution_count": null,
      "outputs": [
        {
          "output_type": "stream",
          "name": "stdout",
          "text": [
            "Null hypothesis cannot be rejected\n"
          ]
        }
      ]
    }
  ]
}