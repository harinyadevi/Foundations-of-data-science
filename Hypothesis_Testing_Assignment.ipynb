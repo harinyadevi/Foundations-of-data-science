{
  "nbformat": 4,
  "nbformat_minor": 0,
  "metadata": {
    "colab": {
      "name": "Hypothesis_Testing_Assignment.ipynb",
      "provenance": [],
      "collapsed_sections": []
    },
    "kernelspec": {
      "name": "python3",
      "display_name": "Python 3"
    },
    "language_info": {
      "name": "python"
    }
  },
  "cells": [
    {
      "cell_type": "markdown",
      "metadata": {
        "id": "Pj8TQxzzeXaD"
      },
      "source": [
        "# Assignment - Hypothesis Testing"
      ]
    },
    {
      "cell_type": "markdown",
      "metadata": {
        "id": "vkzhRjoSDjRb"
      },
      "source": [
        "Travel Times to Work\n",
        "\n",
        "Based on information from the U.S. Census Bureau, the mean travel time to work\n",
        "in minutes for all workers 16 years old and older was 25.3 minutes. A large\n",
        "company with offices in several states randomly sampled 100 of its workers to\n",
        "ascertain their commuting times. The sample mean was 23.9 minutes, and the\n",
        "population standard deviation is 6.39 minutes. At the 0.01 level of significance,\n",
        "can it be concluded that the mean commuting time is less for this particular\n",
        "company?"
      ]
    },
    {
      "cell_type": "code",
      "metadata": {
        "id": "b6VmohStDrPe"
      },
      "source": [
        "import numpy as np\n",
        "import scipy.stats as st"
      ],
      "execution_count": null,
      "outputs": []
    },
    {
      "cell_type": "code",
      "metadata": {
        "id": "l7KEq7oU-zZl"
      },
      "source": [
        "#q1\n",
        "#H0 : μ = 23.9, Ha :  μ >= 16\n",
        "n = 100\n",
        "xbar = 23.9\n",
        "mu = 25.3\n",
        "sigma = 6.39\n",
        "alpha = 0.01"
      ],
      "execution_count": null,
      "outputs": []
    },
    {
      "cell_type": "code",
      "metadata": {
        "colab": {
          "base_uri": "https://localhost:8080/"
        },
        "id": "JaPD755bC_XV",
        "outputId": "ce2e509e-abf1-4af6-89a7-08d687545d1a"
      },
      "source": [
        "z_critical = abs(st.norm.ppf(alpha))\n",
        "z_critical"
      ],
      "execution_count": null,
      "outputs": [
        {
          "output_type": "execute_result",
          "data": {
            "text/plain": [
              "2.3263478740408408"
            ]
          },
          "metadata": {},
          "execution_count": 66
        }
      ]
    },
    {
      "cell_type": "code",
      "metadata": {
        "colab": {
          "base_uri": "https://localhost:8080/"
        },
        "id": "LweQAJv_DBym",
        "outputId": "050c1df4-514b-438c-a999-b5c44dc84f70"
      },
      "source": [
        "z = (xbar-mu)/(sigma/np.sqrt(n))\n",
        "z"
      ],
      "execution_count": null,
      "outputs": [
        {
          "output_type": "execute_result",
          "data": {
            "text/plain": [
              "-2.1909233176838843"
            ]
          },
          "metadata": {},
          "execution_count": 67
        }
      ]
    },
    {
      "cell_type": "code",
      "metadata": {
        "colab": {
          "base_uri": "https://localhost:8080/"
        },
        "id": "SrMRKN-GDDwE",
        "outputId": "31e12836-82af-404f-a423-61114a90ef48"
      },
      "source": [
        "if (z < z_critical):\n",
        "    print(\"Null hypothesis cannot be rejected\")\n",
        "else:\n",
        "    print(\"Reject null hypothesis\")"
      ],
      "execution_count": null,
      "outputs": [
        {
          "output_type": "stream",
          "name": "stdout",
          "text": [
            "Null hypothesis cannot be rejected\n"
          ]
        }
      ]
    },
    {
      "cell_type": "markdown",
      "metadata": {
        "id": "IdnsHGTvD2kz"
      },
      "source": [
        "Time Until Indigestion Relief\n",
        "\n",
        "An advertisement claims that Fasto Stomach Calm will provide relief from\n",
        "indigestion in less than 10 minutes. For a test of the claim, 35 randomly selected\n",
        "individuals were given the product; the average time until relief was 9.25 minutes.\n",
        "From past studies, the standard deviation of the population is known to be 2\n",
        "minutes. Can you,conclude that the claim is justified? Find the P‐value,and let α =\n",
        "0.05."
      ]
    },
    {
      "cell_type": "code",
      "metadata": {
        "id": "FWxVoH_jD6lp"
      },
      "source": [
        "#H0 : μ = 10 and Ha : μ < 10\n",
        "n = 35\n",
        "xbar = 9.25\n",
        "mu = 10\n",
        "sigma = 2\n",
        "alpha = 0.05"
      ],
      "execution_count": null,
      "outputs": []
    },
    {
      "cell_type": "code",
      "metadata": {
        "id": "ZcqzVHkMwYEz",
        "colab": {
          "base_uri": "https://localhost:8080/"
        },
        "outputId": "7f6a4c72-0e25-45c7-e9c4-38a9294c3313"
      },
      "source": [
        "z = (xbar-mu)/(sigma/np.sqrt(n))\n",
        "z"
      ],
      "execution_count": null,
      "outputs": [
        {
          "output_type": "execute_result",
          "data": {
            "text/plain": [
              "-2.218529918662356"
            ]
          },
          "metadata": {},
          "execution_count": 70
        }
      ]
    },
    {
      "cell_type": "code",
      "metadata": {
        "id": "vpht1-vUwYE0",
        "colab": {
          "base_uri": "https://localhost:8080/"
        },
        "outputId": "c5be798c-4eff-4b8f-ee08-edd71b005cd6"
      },
      "source": [
        "p_val = (1 - st.norm.cdf(abs(z))) * 2\n",
        "p_val"
      ],
      "execution_count": null,
      "outputs": [
        {
          "output_type": "execute_result",
          "data": {
            "text/plain": [
              "0.026518721959430724"
            ]
          },
          "metadata": {},
          "execution_count": 71
        }
      ]
    },
    {
      "cell_type": "code",
      "metadata": {
        "id": "a5xB5hGNwYE1",
        "colab": {
          "base_uri": "https://localhost:8080/"
        },
        "outputId": "96f6d442-a9cf-4b0b-bed4-ece43d37c855"
      },
      "source": [
        "if (p_val > alpha):\n",
        "    print(\"Null hypothesis cannot be rejected\")\n",
        "else:\n",
        "    print(\"Reject null hypothesis\")"
      ],
      "execution_count": null,
      "outputs": [
        {
          "output_type": "stream",
          "name": "stdout",
          "text": [
            "Reject null hypothesis\n"
          ]
        }
      ]
    },
    {
      "cell_type": "markdown",
      "metadata": {
        "id": "IeiMd-EPFPOr"
      },
      "source": [
        "Trifecta Winnings\n",
        "\n",
        "A random sample of 1 Trifecta tickets at a local racetrack paid the following\n",
        "amounts,(in dollars and cents). Is there sufficient evidence to conclude that the\n",
        "average Trifecta winnings exceed $50? Use α = 0.10. Assume the variable is\n",
        "normally distributed.\n",
        "8.90,70.20,15.00,29.10,141.00,48.60,83.00,72.70,75.30,59.20,32.40,19.00,190.10"
      ]
    },
    {
      "cell_type": "code",
      "metadata": {
        "id": "YS3-m5kVFUZr"
      },
      "source": [
        "#H0 : μ = 50, Ha :  μ > 50\n",
        "n = 13\n",
        "xbar = 64.96\n",
        "mu = 50\n",
        "sigma = 51.92\n",
        "alpha = 0.10"
      ],
      "execution_count": null,
      "outputs": []
    },
    {
      "cell_type": "code",
      "metadata": {
        "colab": {
          "base_uri": "https://localhost:8080/"
        },
        "id": "2j1wiQ-ZP3uw",
        "outputId": "c07bab4a-319b-4a12-a3c0-eeac3233b08e"
      },
      "source": [
        "z_critical = abs(st.norm.ppf(alpha))\n",
        "z_critical"
      ],
      "execution_count": null,
      "outputs": [
        {
          "output_type": "execute_result",
          "data": {
            "text/plain": [
              "1.2815515655446004"
            ]
          },
          "metadata": {},
          "execution_count": 74
        }
      ]
    },
    {
      "cell_type": "code",
      "metadata": {
        "colab": {
          "base_uri": "https://localhost:8080/"
        },
        "id": "L3HXc_dCIfIj",
        "outputId": "8ee9b296-f660-4979-8de2-4b351c391abb"
      },
      "source": [
        "z = (xbar-mu)/(sigma/np.sqrt(n))\n",
        "z"
      ],
      "execution_count": null,
      "outputs": [
        {
          "output_type": "execute_result",
          "data": {
            "text/plain": [
              "1.0388876556421658"
            ]
          },
          "metadata": {},
          "execution_count": 75
        }
      ]
    },
    {
      "cell_type": "code",
      "metadata": {
        "colab": {
          "base_uri": "https://localhost:8080/"
        },
        "id": "8pweI7_KIidu",
        "outputId": "22972a10-5cd2-416a-b39d-6b256de9d04d"
      },
      "source": [
        "if (z < z_critical):\n",
        "    print(\"Null hypothesis cannot be rejected\")\n",
        "else:\n",
        "    print(\"Reject null hypothesis\")"
      ],
      "execution_count": null,
      "outputs": [
        {
          "output_type": "stream",
          "name": "stdout",
          "text": [
            "Null hypothesis cannot be rejected\n"
          ]
        }
      ]
    },
    {
      "cell_type": "markdown",
      "metadata": {
        "id": "TU4zo6aXIssl"
      },
      "source": [
        "Whooping Crane Eggs\n",
        "\n",
        "Once down to about 15, the world’s only wild flock of whooping cranes now\n",
        "numbers a record 237 birds in its Texas Coastal Bend, wintering ground. The\n",
        "average whooping crane egg weighs 208 grams. A new batch of randomly selected\n",
        "eggs was recently weighed, and their weights are listed below. At α = 0.01, is there\n",
        "sufficient evidence to conclude that the weight is greater than 208 grams? Assume\n",
        "the variable is normally distributed.\n",
        "210,210.2,208.5,209,211.6,206.4,212,209.7,210.3"
      ]
    },
    {
      "cell_type": "code",
      "metadata": {
        "id": "zrCXdD3EIuD9"
      },
      "source": [
        "#H0 : μ <= 208 and Ha : μ = 208\n",
        "n = 9\n",
        "xbar = 209.74\n",
        "mu = 208\n",
        "sigma = 1.6734\n",
        "alpha = 0.01"
      ],
      "execution_count": null,
      "outputs": []
    },
    {
      "cell_type": "code",
      "metadata": {
        "colab": {
          "base_uri": "https://localhost:8080/"
        },
        "id": "UGbKb5QCfMyC",
        "outputId": "7b9959e1-5199-4938-ab9f-bb6799a714ef"
      },
      "source": [
        "z_critical = abs(st.norm.ppf(alpha))\n",
        "z_critical "
      ],
      "execution_count": null,
      "outputs": [
        {
          "output_type": "execute_result",
          "data": {
            "text/plain": [
              "2.3263478740408408"
            ]
          },
          "metadata": {},
          "execution_count": 78
        }
      ]
    },
    {
      "cell_type": "code",
      "metadata": {
        "colab": {
          "base_uri": "https://localhost:8080/"
        },
        "id": "8S8xsMC6fMoy",
        "outputId": "c13f7e45-cba1-478d-8f22-9bf222a40ed2"
      },
      "source": [
        "z = (xbar-mu)/(sigma/np.sqrt(n))\n",
        "z"
      ],
      "execution_count": null,
      "outputs": [
        {
          "output_type": "execute_result",
          "data": {
            "text/plain": [
              "3.1193976335604323"
            ]
          },
          "metadata": {},
          "execution_count": 79
        }
      ]
    },
    {
      "cell_type": "code",
      "metadata": {
        "colab": {
          "base_uri": "https://localhost:8080/"
        },
        "id": "91S3c1QQfMk1",
        "outputId": "8a067398-b528-462f-aa6c-d856305ce647"
      },
      "source": [
        "if (z > z_critical):\n",
        "    print(\"Null hypothesis cannot be rejected\")\n",
        "else:\n",
        "    print(\"Reject null hypothesis\")"
      ],
      "execution_count": null,
      "outputs": [
        {
          "output_type": "stream",
          "name": "stdout",
          "text": [
            "Null hypothesis cannot be rejected\n"
          ]
        }
      ]
    },
    {
      "cell_type": "markdown",
      "metadata": {
        "id": "OiW9rqxwLyuR"
      },
      "source": [
        "Federal Prison Populations\n",
        "\n",
        "Nationally 60.2% of federal prisoners are serving time for drug offences. A warden\n",
        "feels that in his prison the percentage is even higher. He surveys 400 randomly\n",
        "selected inmates’ records and finds that 260 of the inmates are drug offenders. At\n",
        "α = 0.05, is he correct?"
      ]
    },
    {
      "cell_type": "code",
      "metadata": {
        "id": "Aoe9SYQjwYEn"
      },
      "source": [
        "#q5\n",
        "#H0 : μ = 0.602 and Ha : μ > 0.602\n",
        "n = 400\n",
        "xbar = 0.65\n",
        "mu = 0.602\n",
        "alpha = 0.05"
      ],
      "execution_count": null,
      "outputs": []
    },
    {
      "cell_type": "code",
      "metadata": {
        "colab": {
          "base_uri": "https://localhost:8080/"
        },
        "id": "OCpXy5YdffnI",
        "outputId": "8707e255-bc01-47bc-f924-894ddc1c0848"
      },
      "source": [
        "z = (xbar - mu)/np.sqrt(((mu)*(1-mu))/n)\n",
        "z"
      ],
      "execution_count": null,
      "outputs": [
        {
          "output_type": "execute_result",
          "data": {
            "text/plain": [
              "1.9612432025156954"
            ]
          },
          "metadata": {},
          "execution_count": 82
        }
      ]
    },
    {
      "cell_type": "code",
      "metadata": {
        "colab": {
          "base_uri": "https://localhost:8080/"
        },
        "id": "PF58r6bEfflb",
        "outputId": "040f4355-9919-42da-c8ee-1854904725e0"
      },
      "source": [
        "p_val = (1 - st.norm.cdf(abs(z))) * 2\n",
        "p_val"
      ],
      "execution_count": null,
      "outputs": [
        {
          "output_type": "execute_result",
          "data": {
            "text/plain": [
              "0.04985065936622135"
            ]
          },
          "metadata": {},
          "execution_count": 83
        }
      ]
    },
    {
      "cell_type": "code",
      "metadata": {
        "colab": {
          "base_uri": "https://localhost:8080/"
        },
        "id": "fY-UXqxzffif",
        "outputId": "5498bb2d-1685-40b0-e97f-24ecd8d50276"
      },
      "source": [
        "if (p_val > alpha):\n",
        "    print(\"Null hypothesis cannot be rejected\")\n",
        "else:\n",
        "    print(\"Reject null hypothesis\")"
      ],
      "execution_count": null,
      "outputs": [
        {
          "output_type": "stream",
          "name": "stdout",
          "text": [
            "Reject null hypothesis\n"
          ]
        }
      ]
    },
    {
      "cell_type": "markdown",
      "metadata": {
        "id": "Oj0v9_3jPNvU"
      },
      "source": [
        "MP3 Ownership\n",
        "\n",
        "An MP3 manufacturer claims that 65%,of teenagers 13 to 16 years old have their\n",
        "own MP3 players. A researcher wishes to test the claim and selects a,random\n",
        "sample of 80 teenagers. She finds that 57 have their own MP3 players. At α = 0.05,\n",
        "should the claim be,rejected? Use the P-value method."
      ]
    },
    {
      "cell_type": "code",
      "metadata": {
        "id": "nxouWYHrPWBZ"
      },
      "source": [
        "#H0 : μ = 0.65 and Ha : μ != 0.65\n",
        "n = 80\n",
        "xbar = 0.7125\n",
        "mu = 0.65\n",
        "alpha = 0.05"
      ],
      "execution_count": null,
      "outputs": []
    },
    {
      "cell_type": "code",
      "metadata": {
        "colab": {
          "base_uri": "https://localhost:8080/"
        },
        "id": "mPQPbA2afsCs",
        "outputId": "b840dd03-d156-48dc-dd11-941da08f2915"
      },
      "source": [
        "z = (xbar - mu)/np.sqrt(((mu)*(1-mu))/n)\n",
        "z"
      ],
      "execution_count": null,
      "outputs": [
        {
          "output_type": "execute_result",
          "data": {
            "text/plain": [
              "1.1720180773462385"
            ]
          },
          "metadata": {},
          "execution_count": 86
        }
      ]
    },
    {
      "cell_type": "code",
      "metadata": {
        "colab": {
          "base_uri": "https://localhost:8080/"
        },
        "id": "K1_nFucvfw1t",
        "outputId": "3286717b-7c09-474e-9cef-67154be95778"
      },
      "source": [
        "p_val = (1 - st.norm.cdf(abs(z))) * 2\n",
        "p_val"
      ],
      "execution_count": null,
      "outputs": [
        {
          "output_type": "execute_result",
          "data": {
            "text/plain": [
              "0.24118979843282617"
            ]
          },
          "metadata": {},
          "execution_count": 87
        }
      ]
    },
    {
      "cell_type": "code",
      "metadata": {
        "colab": {
          "base_uri": "https://localhost:8080/"
        },
        "id": "mQSPtnNYfyeC",
        "outputId": "e00bfa30-f91e-4ac7-fe50-11295ac65161"
      },
      "source": [
        "if (p_val > alpha):\n",
        "    print(\"Null hypothesis cannot be rejected\")\n",
        "else:\n",
        "    print(\"Reject null hypothesis\")"
      ],
      "execution_count": null,
      "outputs": [
        {
          "output_type": "stream",
          "name": "stdout",
          "text": [
            "Null hypothesis cannot be rejected\n"
          ]
        }
      ]
    },
    {
      "cell_type": "markdown",
      "metadata": {
        "id": "OgEUtP8rU8PP"
      },
      "source": [
        "Men Aged 65 and Over in the Labour Force\n",
        "\n",
        "Of men,aged 65 and over 20.5% are still in the U.S. labour force.,A random sample\n",
        "of 120 retired male teachers indicated that 38 were still working. Use both a\n",
        "confidence,interval and a hypothesis test. Test the claim that the,proportion is\n",
        "greater than 20.5% at α = 0.10."
      ]
    },
    {
      "cell_type": "code",
      "metadata": {
        "id": "lCQnWOA0U78y"
      },
      "source": [
        "#H0 : μ = 0.205 and Ha : μ > 0.205\n",
        "n = 120\n",
        "xbar = 0.316\n",
        "mu = 0.205\n",
        "alpha = 0.1"
      ],
      "execution_count": null,
      "outputs": []
    },
    {
      "cell_type": "code",
      "metadata": {
        "colab": {
          "base_uri": "https://localhost:8080/"
        },
        "id": "34v5Rsu4f3cv",
        "outputId": "20139a12-4bdc-409a-db82-2ae36885b777"
      },
      "source": [
        "z = (xbar - mu)/np.sqrt(((mu)*(1-mu))/n)\n",
        "z"
      ],
      "execution_count": null,
      "outputs": [
        {
          "output_type": "execute_result",
          "data": {
            "text/plain": [
              "3.011987096226093"
            ]
          },
          "metadata": {},
          "execution_count": 90
        }
      ]
    },
    {
      "cell_type": "code",
      "metadata": {
        "colab": {
          "base_uri": "https://localhost:8080/"
        },
        "id": "90CURreUf6ch",
        "outputId": "65bee1f4-38cd-4175-a7fb-d1c130b73f14"
      },
      "source": [
        "p_val = (1 - st.norm.cdf(abs(z))) * 2\n",
        "p_val"
      ],
      "execution_count": null,
      "outputs": [
        {
          "output_type": "execute_result",
          "data": {
            "text/plain": [
              "0.002595436300296461"
            ]
          },
          "metadata": {},
          "execution_count": 91
        }
      ]
    },
    {
      "cell_type": "code",
      "metadata": {
        "colab": {
          "base_uri": "https://localhost:8080/"
        },
        "id": "2KRC8Itzf9eX",
        "outputId": "529d41fa-434a-4334-8d1e-51a3bf208351"
      },
      "source": [
        "if (p_val > alpha):\n",
        "    print(\"Null hypothesis cannot be rejected\")\n",
        "else:\n",
        "    print(\"Reject null hypothesis\")"
      ],
      "execution_count": null,
      "outputs": [
        {
          "output_type": "stream",
          "name": "stdout",
          "text": [
            "Reject null hypothesis\n"
          ]
        }
      ]
    },
    {
      "cell_type": "markdown",
      "metadata": {
        "id": "wdgTt0wQV-Wn"
      },
      "source": [
        "Movie Admission Prices\n",
        "\n",
        "The average movie admission price for a recent year was 7.18. The\n",
        "population,variance was 3.81. A random sample of 15 theatre admission prices\n",
        "had a mean of $8.02 with a standard,deviation of 2.08. At α = 0.05, is there\n",
        "sufficient evidence to conclude a difference from the population variance?\n",
        "Assume the variable is normally distributed."
      ]
    },
    {
      "cell_type": "code",
      "metadata": {
        "id": "kLlCp_fVWDVi"
      },
      "source": [
        "#H0 : sigma_square = 3.81 , Ha : sigma_square != 3.81\n",
        "n = 15\n",
        "degrees_of_freedom = n-1\n",
        "s_square = 2.08\n",
        "sigma_square = 3.81\n",
        "alpha = 0.05\n"
      ],
      "execution_count": null,
      "outputs": []
    },
    {
      "cell_type": "code",
      "metadata": {
        "colab": {
          "base_uri": "https://localhost:8080/"
        },
        "id": "xZcYhMOzgDO9",
        "outputId": "0c7e27ea-5831-45dd-da61-e7722930a8a8"
      },
      "source": [
        "chi_square = ((n-1)*s_square) / (sigma_square)\n",
        "chi_square"
      ],
      "execution_count": null,
      "outputs": [
        {
          "output_type": "execute_result",
          "data": {
            "text/plain": [
              "7.6430446194225725"
            ]
          },
          "metadata": {},
          "execution_count": 94
        }
      ]
    },
    {
      "cell_type": "code",
      "metadata": {
        "colab": {
          "base_uri": "https://localhost:8080/"
        },
        "id": "xX-L6Fg-gGeR",
        "outputId": "7760d621-268e-4372-a0c0-aea75a9b661e"
      },
      "source": [
        "chi_square_critical =  st.chi2.ppf(alpha,degrees_of_freedom)*2\n",
        "chi_square_critical"
      ],
      "execution_count": null,
      "outputs": [
        {
          "output_type": "execute_result",
          "data": {
            "text/plain": [
              "13.14126276757868"
            ]
          },
          "metadata": {},
          "execution_count": 95
        }
      ]
    },
    {
      "cell_type": "code",
      "metadata": {
        "colab": {
          "base_uri": "https://localhost:8080/"
        },
        "id": "AaL3dgyUgKcF",
        "outputId": "166ce5ae-b9f0-4a5d-b480-813d2c72e8fc"
      },
      "source": [
        "if (chi_square > chi_square_critical):\n",
        "    print(\"Null hypothesis cannot be rejected\")\n",
        "else:\n",
        "    print(\"Reject null hypothesis\")"
      ],
      "execution_count": null,
      "outputs": [
        {
          "output_type": "stream",
          "name": "stdout",
          "text": [
            "Reject null hypothesis\n"
          ]
        }
      ]
    },
    {
      "cell_type": "markdown",
      "metadata": {
        "id": "8OgsvaDQWdbM"
      },
      "source": [
        "Fuel Consumption\n",
        "\n",
        "The standard deviation of fuel,consumption of a manufacturer’s sport utility\n",
        "vehicle,is hypothesized to be 3.3 miles per gallon. A random,sample of 18 vehicles\n",
        "has a standard deviation of,2.8 miles per gallon. At α = 0.10, is the claim,\n",
        "believable?"
      ]
    },
    {
      "cell_type": "code",
      "metadata": {
        "id": "pT914FaTWojJ"
      },
      "source": [
        "#H0 : sigma = 3.3, Ha : sigma != 3.3\n",
        "\n",
        "n = 18\n",
        "degrees_of_freedom = n-1\n",
        "s = 2.8\n",
        "sigma = 3.3\n",
        "alpha = 0.10"
      ],
      "execution_count": null,
      "outputs": []
    },
    {
      "cell_type": "code",
      "metadata": {
        "colab": {
          "base_uri": "https://localhost:8080/"
        },
        "id": "WWcJno7lgURW",
        "outputId": "a55eeedd-e633-4a87-f685-48ddc7573686"
      },
      "source": [
        "chi_square = ((n-1)*(s**2))/(sigma**2)\n",
        "chi_square"
      ],
      "execution_count": null,
      "outputs": [
        {
          "output_type": "execute_result",
          "data": {
            "text/plain": [
              "12.238751147842056"
            ]
          },
          "metadata": {},
          "execution_count": 98
        }
      ]
    },
    {
      "cell_type": "code",
      "metadata": {
        "colab": {
          "base_uri": "https://localhost:8080/"
        },
        "id": "YKkcDrFfgYOG",
        "outputId": "0368f37b-c38b-4924-b00b-18881bad1d91"
      },
      "source": [
        "p_val = st.chi2.cdf(chi_square,degrees_of_freedom)*2\n",
        "chi_square_critical"
      ],
      "execution_count": null,
      "outputs": [
        {
          "output_type": "execute_result",
          "data": {
            "text/plain": [
              "13.14126276757868"
            ]
          },
          "metadata": {},
          "execution_count": 99
        }
      ]
    },
    {
      "cell_type": "code",
      "metadata": {
        "colab": {
          "base_uri": "https://localhost:8080/"
        },
        "id": "IRO76PNFgaPi",
        "outputId": "a074af8a-620d-488a-d46d-1e704377f99e"
      },
      "source": [
        "if (p_val > alpha):\n",
        "    print(\"Null hypothesis cannot be rejected\")\n",
        "else:\n",
        "    print(\"Reject null hypothesis\")"
      ],
      "execution_count": null,
      "outputs": [
        {
          "output_type": "stream",
          "name": "stdout",
          "text": [
            "Null hypothesis cannot be rejected\n"
          ]
        }
      ]
    },
    {
      "cell_type": "markdown",
      "metadata": {
        "id": "wOn-OquvW8jG"
      },
      "source": [
        "Tire Inflation\n",
        "\n",
        "To see whether people are keeping their car tires inflated to the correct level of 35\n",
        "pounds per square inch (psi), a tire company manager selects a random sample of\n",
        "36 tires and checks the pressure. The mean of the sample is 33.5 psi, and the\n",
        "population standard deviation is 3 psi. Are the tires properly inflated? Use α = 0.10.\n",
        "Find the 90% confidence interval of the mean. Do the results agree? Explain."
      ]
    },
    {
      "cell_type": "code",
      "metadata": {
        "id": "1HRqVxE1XAEo"
      },
      "source": [
        "#H0 : μ =35, Ha : μ !=35\n",
        "\n",
        "n = 36\n",
        "xbar = 33.5 \n",
        "mu = 35 \n",
        "sigma = 3\n",
        "alpha = 0.10 "
      ],
      "execution_count": null,
      "outputs": []
    },
    {
      "cell_type": "code",
      "metadata": {
        "colab": {
          "base_uri": "https://localhost:8080/"
        },
        "id": "UuJtx78ighZb",
        "outputId": "4fff0c74-586f-4ef7-d86b-074d934f35c5"
      },
      "source": [
        "z_critical = abs(st.norm.ppf(alpha/2)) \n",
        "z_critical"
      ],
      "execution_count": null,
      "outputs": [
        {
          "output_type": "execute_result",
          "data": {
            "text/plain": [
              "1.6448536269514729"
            ]
          },
          "metadata": {},
          "execution_count": 102
        }
      ]
    },
    {
      "cell_type": "code",
      "metadata": {
        "colab": {
          "base_uri": "https://localhost:8080/"
        },
        "id": "VgZKk73jgk4E",
        "outputId": "b6b7f488-37ab-4bb6-fb28-f8f7449c9aac"
      },
      "source": [
        "z = (xbar-mu)/(sigma/np.sqrt(n))\n",
        "z"
      ],
      "execution_count": null,
      "outputs": [
        {
          "output_type": "execute_result",
          "data": {
            "text/plain": [
              "-3.0"
            ]
          },
          "metadata": {},
          "execution_count": 103
        }
      ]
    },
    {
      "cell_type": "code",
      "metadata": {
        "colab": {
          "base_uri": "https://localhost:8080/"
        },
        "id": "M-YCe2o4gn7k",
        "outputId": "bfb01ac3-91e0-4a5c-f53f-b16934b63533"
      },
      "source": [
        "if (z < z_critical): \n",
        "    print(\"Null hypothesis cannot be rejected\")\n",
        "else:\n",
        "    print(\"Reject null hypothesis\")\n",
        "\n",
        "first = (st.norm.ppf(0.05))\n",
        "last = st.norm.ppf(0.95)\n",
        "print(first)\n",
        "print(last) "
      ],
      "execution_count": null,
      "outputs": [
        {
          "output_type": "stream",
          "name": "stdout",
          "text": [
            "Null hypothesis cannot be rejected\n",
            "-1.6448536269514729\n",
            "1.6448536269514722\n"
          ]
        }
      ]
    }
  ]
}